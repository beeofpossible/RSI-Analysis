{
  "nbformat": 4,
  "nbformat_minor": 0,
  "metadata": {
    "colab": {
      "provenance": [],
      "authorship_tag": "ABX9TyMi+lh59sOOPadXdNqOEY+4",
      "include_colab_link": true
    },
    "kernelspec": {
      "name": "python3",
      "display_name": "Python 3"
    },
    "language_info": {
      "name": "python"
    }
  },
  "cells": [
    {
      "cell_type": "markdown",
      "metadata": {
        "id": "view-in-github",
        "colab_type": "text"
      },
      "source": [
        "<a href=\"https://colab.research.google.com/github/beeofpossible/RSI-Analysis/blob/main/Openfisca.ipynb\" target=\"_parent\"><img src=\"https://colab.research.google.com/assets/colab-badge.svg\" alt=\"Open In Colab\"/></a>"
      ]
    },
    {
      "cell_type": "code",
      "execution_count": 2,
      "metadata": {
        "colab": {
          "base_uri": "https://localhost:8080/",
          "height": 1000
        },
        "id": "pirhbnD8go1h",
        "outputId": "9dbab535-11aa-4400-ce06-a486009ab820"
      },
      "outputs": [
        {
          "output_type": "stream",
          "name": "stdout",
          "text": [
            "Looking in indexes: https://pypi.org/simple, https://us-python.pkg.dev/colab-wheels/public/simple/\n",
            "Collecting openfisca_core\n",
            "  Downloading OpenFisca_Core-35.9.0-py3-none-any.whl (208 kB)\n",
            "\u001b[K     |████████████████████████████████| 208 kB 5.3 MB/s \n",
            "\u001b[?25hCollecting pytest<6.0.0,>=4.4.1\n",
            "  Downloading pytest-5.4.3-py3-none-any.whl (248 kB)\n",
            "\u001b[K     |████████████████████████████████| 248 kB 51.7 MB/s \n",
            "\u001b[?25hRequirement already satisfied: psutil<6.0.0,>=5.4.7 in /usr/local/lib/python3.7/dist-packages (from openfisca_core) (5.4.8)\n",
            "Collecting sortedcontainers==2.2.2\n",
            "  Downloading sortedcontainers-2.2.2-py2.py3-none-any.whl (29 kB)\n",
            "Requirement already satisfied: PyYAML>=3.10 in /usr/local/lib/python3.7/dist-packages (from openfisca_core) (6.0)\n",
            "Collecting typing-extensions==3.10.0.2\n",
            "  Downloading typing_extensions-3.10.0.2-py3-none-any.whl (26 kB)\n",
            "Requirement already satisfied: numexpr<=3.0,>=2.7.0 in /usr/local/lib/python3.7/dist-packages (from openfisca_core) (2.8.3)\n",
            "Collecting numpy<1.21,>=1.11\n",
            "  Downloading numpy-1.20.3-cp37-cp37m-manylinux_2_12_x86_64.manylinux2010_x86_64.whl (15.3 MB)\n",
            "\u001b[K     |████████████████████████████████| 15.3 MB 49.9 MB/s \n",
            "\u001b[?25hCollecting nptyping==1.4.4\n",
            "  Downloading nptyping-1.4.4-py3-none-any.whl (31 kB)\n",
            "Collecting dpath<3.0.0,>=1.5.0\n",
            "  Downloading dpath-2.0.6-py3-none-any.whl (15 kB)\n",
            "Collecting typish>=1.7.0\n",
            "  Downloading typish-1.9.3-py3-none-any.whl (45 kB)\n",
            "\u001b[K     |████████████████████████████████| 45 kB 2.5 MB/s \n",
            "\u001b[?25hRequirement already satisfied: packaging in /usr/local/lib/python3.7/dist-packages (from numexpr<=3.0,>=2.7.0->openfisca_core) (21.3)\n",
            "Requirement already satisfied: wcwidth in /usr/local/lib/python3.7/dist-packages (from pytest<6.0.0,>=4.4.1->openfisca_core) (0.2.5)\n",
            "Requirement already satisfied: more-itertools>=4.0.0 in /usr/local/lib/python3.7/dist-packages (from pytest<6.0.0,>=4.4.1->openfisca_core) (9.0.0)\n",
            "Requirement already satisfied: py>=1.5.0 in /usr/local/lib/python3.7/dist-packages (from pytest<6.0.0,>=4.4.1->openfisca_core) (1.11.0)\n",
            "Requirement already satisfied: attrs>=17.4.0 in /usr/local/lib/python3.7/dist-packages (from pytest<6.0.0,>=4.4.1->openfisca_core) (22.1.0)\n",
            "Collecting pluggy<1.0,>=0.12\n",
            "  Downloading pluggy-0.13.1-py2.py3-none-any.whl (18 kB)\n",
            "Requirement already satisfied: importlib-metadata>=0.12 in /usr/local/lib/python3.7/dist-packages (from pytest<6.0.0,>=4.4.1->openfisca_core) (4.13.0)\n",
            "Requirement already satisfied: zipp>=0.5 in /usr/local/lib/python3.7/dist-packages (from importlib-metadata>=0.12->pytest<6.0.0,>=4.4.1->openfisca_core) (3.9.0)\n",
            "Requirement already satisfied: pyparsing!=3.0.5,>=2.0.2 in /usr/local/lib/python3.7/dist-packages (from packaging->numexpr<=3.0,>=2.7.0->openfisca_core) (3.0.9)\n",
            "Installing collected packages: typing-extensions, typish, pluggy, numpy, sortedcontainers, pytest, nptyping, dpath, openfisca-core\n",
            "  Attempting uninstall: typing-extensions\n",
            "    Found existing installation: typing-extensions 4.1.1\n",
            "    Uninstalling typing-extensions-4.1.1:\n",
            "      Successfully uninstalled typing-extensions-4.1.1\n",
            "  Attempting uninstall: pluggy\n",
            "    Found existing installation: pluggy 0.7.1\n",
            "    Uninstalling pluggy-0.7.1:\n",
            "      Successfully uninstalled pluggy-0.7.1\n",
            "  Attempting uninstall: numpy\n",
            "    Found existing installation: numpy 1.21.6\n",
            "    Uninstalling numpy-1.21.6:\n",
            "      Successfully uninstalled numpy-1.21.6\n",
            "  Attempting uninstall: sortedcontainers\n",
            "    Found existing installation: sortedcontainers 2.4.0\n",
            "    Uninstalling sortedcontainers-2.4.0:\n",
            "      Successfully uninstalled sortedcontainers-2.4.0\n",
            "  Attempting uninstall: pytest\n",
            "    Found existing installation: pytest 3.6.4\n",
            "    Uninstalling pytest-3.6.4:\n",
            "      Successfully uninstalled pytest-3.6.4\n",
            "\u001b[31mERROR: pip's dependency resolver does not currently take into account all the packages that are installed. This behaviour is the source of the following dependency conflicts.\n",
            "xarray-einstats 0.2.2 requires numpy>=1.21, but you have numpy 1.20.3 which is incompatible.\n",
            "pydantic 1.10.2 requires typing-extensions>=4.1.0, but you have typing-extensions 3.10.0.2 which is incompatible.\n",
            "cmdstanpy 1.0.7 requires numpy>=1.21, but you have numpy 1.20.3 which is incompatible.\u001b[0m\n",
            "Successfully installed dpath-2.0.6 nptyping-1.4.4 numpy-1.20.3 openfisca-core-35.9.0 pluggy-0.13.1 pytest-5.4.3 sortedcontainers-2.2.2 typing-extensions-3.10.0.2 typish-1.9.3\n"
          ]
        },
        {
          "output_type": "display_data",
          "data": {
            "application/vnd.colab-display-data+json": {
              "pip_warning": {
                "packages": [
                  "numpy",
                  "typing_extensions"
                ]
              }
            }
          },
          "metadata": {}
        },
        {
          "output_type": "stream",
          "name": "stdout",
          "text": [
            "Looking in indexes: https://pypi.org/simple, https://us-python.pkg.dev/colab-wheels/public/simple/\n",
            "Collecting openfisca_country_template\n",
            "  Downloading OpenFisca_Country_Template-3.13.2-py3-none-any.whl (52 kB)\n",
            "\u001b[K     |████████████████████████████████| 52 kB 936 kB/s \n",
            "\u001b[?25hRequirement already satisfied: OpenFisca-Core[web-api]<36.0.0,>=35.0.0 in /usr/local/lib/python3.7/dist-packages (from openfisca_country_template) (35.9.0)\n",
            "Requirement already satisfied: numexpr<=3.0,>=2.7.0 in /usr/local/lib/python3.7/dist-packages (from OpenFisca-Core[web-api]<36.0.0,>=35.0.0->openfisca_country_template) (2.8.3)\n",
            "Requirement already satisfied: psutil<6.0.0,>=5.4.7 in /usr/local/lib/python3.7/dist-packages (from OpenFisca-Core[web-api]<36.0.0,>=35.0.0->openfisca_country_template) (5.4.8)\n",
            "Requirement already satisfied: dpath<3.0.0,>=1.5.0 in /usr/local/lib/python3.7/dist-packages (from OpenFisca-Core[web-api]<36.0.0,>=35.0.0->openfisca_country_template) (2.0.6)\n",
            "Requirement already satisfied: nptyping==1.4.4 in /usr/local/lib/python3.7/dist-packages (from OpenFisca-Core[web-api]<36.0.0,>=35.0.0->openfisca_country_template) (1.4.4)\n",
            "Requirement already satisfied: sortedcontainers==2.2.2 in /usr/local/lib/python3.7/dist-packages (from OpenFisca-Core[web-api]<36.0.0,>=35.0.0->openfisca_country_template) (2.2.2)\n",
            "Requirement already satisfied: pytest<6.0.0,>=4.4.1 in /usr/local/lib/python3.7/dist-packages (from OpenFisca-Core[web-api]<36.0.0,>=35.0.0->openfisca_country_template) (5.4.3)\n",
            "Requirement already satisfied: numpy<1.21,>=1.11 in /usr/local/lib/python3.7/dist-packages (from OpenFisca-Core[web-api]<36.0.0,>=35.0.0->openfisca_country_template) (1.20.3)\n",
            "Requirement already satisfied: PyYAML>=3.10 in /usr/local/lib/python3.7/dist-packages (from OpenFisca-Core[web-api]<36.0.0,>=35.0.0->openfisca_country_template) (6.0)\n",
            "Requirement already satisfied: typing-extensions==3.10.0.2 in /usr/local/lib/python3.7/dist-packages (from OpenFisca-Core[web-api]<36.0.0,>=35.0.0->openfisca_country_template) (3.10.0.2)\n",
            "Requirement already satisfied: flask==1.1.4 in /usr/local/lib/python3.7/dist-packages (from OpenFisca-Core[web-api]<36.0.0,>=35.0.0->openfisca_country_template) (1.1.4)\n",
            "Collecting flask-cors==3.0.10\n",
            "  Downloading Flask_Cors-3.0.10-py2.py3-none-any.whl (14 kB)\n",
            "Requirement already satisfied: werkzeug<2.0.0,>=1.0.0 in /usr/local/lib/python3.7/dist-packages (from OpenFisca-Core[web-api]<36.0.0,>=35.0.0->openfisca_country_template) (1.0.1)\n",
            "Collecting gunicorn<21.0.0,>=20.0.0\n",
            "  Downloading gunicorn-20.1.0-py3-none-any.whl (79 kB)\n",
            "\u001b[K     |████████████████████████████████| 79 kB 7.4 MB/s \n",
            "\u001b[?25hRequirement already satisfied: markupsafe==2.0.1 in /usr/local/lib/python3.7/dist-packages (from OpenFisca-Core[web-api]<36.0.0,>=35.0.0->openfisca_country_template) (2.0.1)\n",
            "Requirement already satisfied: Jinja2<3.0,>=2.10.1 in /usr/local/lib/python3.7/dist-packages (from flask==1.1.4->OpenFisca-Core[web-api]<36.0.0,>=35.0.0->openfisca_country_template) (2.11.3)\n",
            "Requirement already satisfied: click<8.0,>=5.1 in /usr/local/lib/python3.7/dist-packages (from flask==1.1.4->OpenFisca-Core[web-api]<36.0.0,>=35.0.0->openfisca_country_template) (7.1.2)\n",
            "Requirement already satisfied: itsdangerous<2.0,>=0.24 in /usr/local/lib/python3.7/dist-packages (from flask==1.1.4->OpenFisca-Core[web-api]<36.0.0,>=35.0.0->openfisca_country_template) (1.1.0)\n",
            "Requirement already satisfied: Six in /usr/local/lib/python3.7/dist-packages (from flask-cors==3.0.10->OpenFisca-Core[web-api]<36.0.0,>=35.0.0->openfisca_country_template) (1.15.0)\n",
            "Requirement already satisfied: typish>=1.7.0 in /usr/local/lib/python3.7/dist-packages (from nptyping==1.4.4->OpenFisca-Core[web-api]<36.0.0,>=35.0.0->openfisca_country_template) (1.9.3)\n",
            "Requirement already satisfied: setuptools>=3.0 in /usr/local/lib/python3.7/dist-packages (from gunicorn<21.0.0,>=20.0.0->OpenFisca-Core[web-api]<36.0.0,>=35.0.0->openfisca_country_template) (57.4.0)\n",
            "Requirement already satisfied: packaging in /usr/local/lib/python3.7/dist-packages (from numexpr<=3.0,>=2.7.0->OpenFisca-Core[web-api]<36.0.0,>=35.0.0->openfisca_country_template) (21.3)\n",
            "Requirement already satisfied: pluggy<1.0,>=0.12 in /usr/local/lib/python3.7/dist-packages (from pytest<6.0.0,>=4.4.1->OpenFisca-Core[web-api]<36.0.0,>=35.0.0->openfisca_country_template) (0.13.1)\n",
            "Requirement already satisfied: more-itertools>=4.0.0 in /usr/local/lib/python3.7/dist-packages (from pytest<6.0.0,>=4.4.1->OpenFisca-Core[web-api]<36.0.0,>=35.0.0->openfisca_country_template) (9.0.0)\n",
            "Requirement already satisfied: py>=1.5.0 in /usr/local/lib/python3.7/dist-packages (from pytest<6.0.0,>=4.4.1->OpenFisca-Core[web-api]<36.0.0,>=35.0.0->openfisca_country_template) (1.11.0)\n",
            "Requirement already satisfied: importlib-metadata>=0.12 in /usr/local/lib/python3.7/dist-packages (from pytest<6.0.0,>=4.4.1->OpenFisca-Core[web-api]<36.0.0,>=35.0.0->openfisca_country_template) (4.13.0)\n",
            "Requirement already satisfied: attrs>=17.4.0 in /usr/local/lib/python3.7/dist-packages (from pytest<6.0.0,>=4.4.1->OpenFisca-Core[web-api]<36.0.0,>=35.0.0->openfisca_country_template) (22.1.0)\n",
            "Requirement already satisfied: wcwidth in /usr/local/lib/python3.7/dist-packages (from pytest<6.0.0,>=4.4.1->OpenFisca-Core[web-api]<36.0.0,>=35.0.0->openfisca_country_template) (0.2.5)\n",
            "Requirement already satisfied: zipp>=0.5 in /usr/local/lib/python3.7/dist-packages (from importlib-metadata>=0.12->pytest<6.0.0,>=4.4.1->OpenFisca-Core[web-api]<36.0.0,>=35.0.0->openfisca_country_template) (3.9.0)\n",
            "Requirement already satisfied: pyparsing!=3.0.5,>=2.0.2 in /usr/local/lib/python3.7/dist-packages (from packaging->numexpr<=3.0,>=2.7.0->OpenFisca-Core[web-api]<36.0.0,>=35.0.0->openfisca_country_template) (3.0.9)\n",
            "Installing collected packages: gunicorn, flask-cors, openfisca-country-template\n",
            "Successfully installed flask-cors-3.0.10 gunicorn-20.1.0 openfisca-country-template-3.13.2\n",
            "Looking in indexes: https://pypi.org/simple, https://us-python.pkg.dev/colab-wheels/public/simple/\n",
            "Collecting openfisca_france\n",
            "  Downloading OpenFisca_France-118.1.1-py3-none-any.whl (5.3 MB)\n",
            "\u001b[K     |████████████████████████████████| 5.3 MB 5.3 MB/s \n",
            "\u001b[?25hRequirement already satisfied: OpenFisca-Core<36.0,>=35.2.0 in /usr/local/lib/python3.7/dist-packages (from openfisca_france) (35.9.0)\n",
            "Requirement already satisfied: numexpr<=3.0,>=2.7.0 in /usr/local/lib/python3.7/dist-packages (from OpenFisca-Core<36.0,>=35.2.0->openfisca_france) (2.8.3)\n",
            "Requirement already satisfied: numpy<1.21,>=1.11 in /usr/local/lib/python3.7/dist-packages (from OpenFisca-Core<36.0,>=35.2.0->openfisca_france) (1.20.3)\n",
            "Requirement already satisfied: nptyping==1.4.4 in /usr/local/lib/python3.7/dist-packages (from OpenFisca-Core<36.0,>=35.2.0->openfisca_france) (1.4.4)\n",
            "Requirement already satisfied: dpath<3.0.0,>=1.5.0 in /usr/local/lib/python3.7/dist-packages (from OpenFisca-Core<36.0,>=35.2.0->openfisca_france) (2.0.6)\n",
            "Requirement already satisfied: PyYAML>=3.10 in /usr/local/lib/python3.7/dist-packages (from OpenFisca-Core<36.0,>=35.2.0->openfisca_france) (6.0)\n",
            "Requirement already satisfied: sortedcontainers==2.2.2 in /usr/local/lib/python3.7/dist-packages (from OpenFisca-Core<36.0,>=35.2.0->openfisca_france) (2.2.2)\n",
            "Requirement already satisfied: typing-extensions==3.10.0.2 in /usr/local/lib/python3.7/dist-packages (from OpenFisca-Core<36.0,>=35.2.0->openfisca_france) (3.10.0.2)\n",
            "Requirement already satisfied: psutil<6.0.0,>=5.4.7 in /usr/local/lib/python3.7/dist-packages (from OpenFisca-Core<36.0,>=35.2.0->openfisca_france) (5.4.8)\n",
            "Requirement already satisfied: pytest<6.0.0,>=4.4.1 in /usr/local/lib/python3.7/dist-packages (from OpenFisca-Core<36.0,>=35.2.0->openfisca_france) (5.4.3)\n",
            "Requirement already satisfied: typish>=1.7.0 in /usr/local/lib/python3.7/dist-packages (from nptyping==1.4.4->OpenFisca-Core<36.0,>=35.2.0->openfisca_france) (1.9.3)\n",
            "Requirement already satisfied: packaging in /usr/local/lib/python3.7/dist-packages (from numexpr<=3.0,>=2.7.0->OpenFisca-Core<36.0,>=35.2.0->openfisca_france) (21.3)\n",
            "Requirement already satisfied: py>=1.5.0 in /usr/local/lib/python3.7/dist-packages (from pytest<6.0.0,>=4.4.1->OpenFisca-Core<36.0,>=35.2.0->openfisca_france) (1.11.0)\n",
            "Requirement already satisfied: importlib-metadata>=0.12 in /usr/local/lib/python3.7/dist-packages (from pytest<6.0.0,>=4.4.1->OpenFisca-Core<36.0,>=35.2.0->openfisca_france) (4.13.0)\n",
            "Requirement already satisfied: more-itertools>=4.0.0 in /usr/local/lib/python3.7/dist-packages (from pytest<6.0.0,>=4.4.1->OpenFisca-Core<36.0,>=35.2.0->openfisca_france) (9.0.0)\n",
            "Requirement already satisfied: attrs>=17.4.0 in /usr/local/lib/python3.7/dist-packages (from pytest<6.0.0,>=4.4.1->OpenFisca-Core<36.0,>=35.2.0->openfisca_france) (22.1.0)\n",
            "Requirement already satisfied: pluggy<1.0,>=0.12 in /usr/local/lib/python3.7/dist-packages (from pytest<6.0.0,>=4.4.1->OpenFisca-Core<36.0,>=35.2.0->openfisca_france) (0.13.1)\n",
            "Requirement already satisfied: wcwidth in /usr/local/lib/python3.7/dist-packages (from pytest<6.0.0,>=4.4.1->OpenFisca-Core<36.0,>=35.2.0->openfisca_france) (0.2.5)\n",
            "Requirement already satisfied: zipp>=0.5 in /usr/local/lib/python3.7/dist-packages (from importlib-metadata>=0.12->pytest<6.0.0,>=4.4.1->OpenFisca-Core<36.0,>=35.2.0->openfisca_france) (3.9.0)\n",
            "Requirement already satisfied: pyparsing!=3.0.5,>=2.0.2 in /usr/local/lib/python3.7/dist-packages (from packaging->numexpr<=3.0,>=2.7.0->OpenFisca-Core<36.0,>=35.2.0->openfisca_france) (3.0.9)\n",
            "Installing collected packages: openfisca-france\n",
            "Successfully installed openfisca-france-118.1.1\n"
          ]
        }
      ],
      "source": [
        "!pip install openfisca_core\n",
        "!pip install openfisca_country_template\n",
        "!pip install openfisca_france"
      ]
    },
    {
      "cell_type": "code",
      "source": [
        "import openfisca_core.commons\n",
        "#Makes a choice based on an input and thresholds.\n",
        "#From a list of choices, this function selects one of these values based on a list of inputs, depending on the value of each input within a list of thresholds.\n",
        "apply_thresholds = openfisca_core.commons.apply_thresholds \n",
        "average_rate = openfisca_core.commons.average_rate #Given a target net income, and according to the varying gross income. Optionally, a trim can be applied consisting of the lower and upper bounds of the average rate to be computed.\n",
        "#Given a target net income, and according to the varying gross income. Optionally, a trim can be applied consisting of the lower and upper bounds of the marginal rate to be computed.\n",
        "marginal_rate = openfisca_core.commons.marginal_rate\n",
        "#Creates an empty instance of the same class of the original object.\n",
        "empty_clone = openfisca_core.commons.empty_clone \n",
        "#Generates a clean string representation of a numpy array.\n",
        "stringify_array = openfisca_core.commons.stringify_array\n",
        "switch = openfisca_core.commons.switch #Given an array of conditions, returns an array of the same size, replacing each condition item with the matching given value.\n",
        "concat = openfisca_core.commons.concat #Concatenates the values of two arrays."
      ],
      "metadata": {
        "id": "KTbGY2t0hFZC"
      },
      "execution_count": 3,
      "outputs": []
    },
    {
      "cell_type": "code",
      "source": [
        "# Call module describing the French System\n",
        "from openfisca_france import FranceTaxBenefitSystem\n",
        "\n",
        "# Initialize the legislation\n",
        "tax_benefit_system_France = FranceTaxBenefitSystem()\n"
      ],
      "metadata": {
        "id": "MXCzqA-UhKzD"
      },
      "execution_count": 5,
      "outputs": []
    },
    {
      "cell_type": "code",
      "source": [
        "BASIC_TEST_CASE = {\n",
        "    'persons': {'Ari': {}, 'Paul': {}, 'Leila': {}, 'Javier': {}},\n",
        "    'households': {\n",
        "        'h1': {'children': ['Leila'], 'parents': ['Ari', 'Paul']},\n",
        "        'h2': {'parents': ['Javier']}\n",
        "        },\n",
        "    }\n",
        "\n",
        "\n",
        "TEST_CASE = {\n",
        "    'persons': {\n",
        "        'Ari': {\n",
        "            'salary': {'2011-01': 1000}\n",
        "        },\n",
        "        'Paul': {},\n",
        "        'Leila': {},\n",
        "        'Javier': {}\n",
        "    },\n",
        "    'households': {\n",
        "        'h1': {\n",
        "            'children': ['Leila'],\n",
        "            'parents': ['Ari', 'Paul'],\n",
        "            'rent': {'2011-01': 300}\n",
        "        },\n",
        "        'h2': {'parents': ['Javier']}\n",
        "    },\n",
        "}    "
      ],
      "metadata": {
        "id": "TT_5lEnHPYpz"
      },
      "execution_count": 10,
      "outputs": []
    },
    {
      "cell_type": "code",
      "source": [
        "# -*- coding: utf-8 -*-\n",
        "\n",
        "from openfisca_core.simulation_builder import SimulationBuilder\n",
        "from openfisca_country_template import CountryTaxBenefitSystem\n",
        "\n",
        "\n",
        "\n",
        "tax_benefit_system = CountryTaxBenefitSystem()\n",
        "\n",
        "simulation_builder = SimulationBuilder()\n",
        "simulation = simulation_builder.build_from_entities(tax_benefit_system, TEST_CASE)\n",
        "\n",
        "housing_allowance = simulation.calculate('housing_allowance', '2011-01')\n",
        "\n",
        "print(\"households\", simulation.household.ids)\n",
        "print(\"housing_allowance\", housing_allowance)"
      ],
      "metadata": {
        "colab": {
          "base_uri": "https://localhost:8080/"
        },
        "id": "PszUCqM2R-HO",
        "outputId": "77b49364-0bc1-4bde-e6f3-b323f4375ecb"
      },
      "execution_count": 11,
      "outputs": [
        {
          "output_type": "stream",
          "name": "stdout",
          "text": [
            "households ['h1', 'h2']\n",
            "housing_allowance [75.  0.]\n"
          ]
        }
      ]
    },
    {
      "cell_type": "code",
      "source": [],
      "metadata": {
        "id": "biwJgszsRlox"
      },
      "execution_count": null,
      "outputs": []
    }
  ]
}